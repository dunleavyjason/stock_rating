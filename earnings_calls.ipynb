{
 "cells": [
  {
   "cell_type": "code",
   "execution_count": 3,
   "metadata": {},
   "outputs": [],
   "source": [
    "import pandas as pd\n",
    "import numpy as np\n",
    "import pickle\n",
    "from urllib.request import urlopen\n",
    "import json"
   ]
  },
  {
   "cell_type": "markdown",
   "metadata": {},
   "source": [
    "### Import List of Tickers"
   ]
  },
  {
   "cell_type": "code",
   "execution_count": null,
   "metadata": {},
   "outputs": [],
   "source": []
  },
  {
   "cell_type": "markdown",
   "metadata": {},
   "source": [
    "### Pull Earnings Call Transcripts from API"
   ]
  },
  {
   "cell_type": "code",
   "execution_count": null,
   "metadata": {},
   "outputs": [],
   "source": [
    "def get_jsonparsed_data(url):\n",
    "    \"\"\"\n",
    "    Receive the content of ``url``, parse it as JSON and return the object.\n",
    "\n",
    "    Parameters\n",
    "    ----------\n",
    "    url : str\n",
    "\n",
    "    Returns\n",
    "    -------\n",
    "    dict\n",
    "    \"\"\"\n",
    "    response = urlopen(url)\n",
    "    data = response.read().decode(\"utf-8\")\n",
    "    return json.loads(data)"
   ]
  },
  {
   "cell_type": "code",
   "execution_count": null,
   "metadata": {},
   "outputs": [],
   "source": [
    "url = (\"https://financialmodelingprep.com/api/v3/earning_call_transcript/ZVO?quarter=4&year=2020&apikey=8c48192b57789b1b85a59db736780f87\")\n",
    "print(get_jsonparsed_data(url))"
   ]
  },
  {
   "cell_type": "code",
   "execution_count": null,
   "metadata": {},
   "outputs": [],
   "source": [
    "years = [\"2018\", \"2019\", \"2020\", \"2021\"]\n",
    "quarters = [\"1\", \"2\", \"3\", \"4\"]"
   ]
  },
  {
   "cell_type": "code",
   "execution_count": null,
   "metadata": {},
   "outputs": [],
   "source": [
    "transcripts = []"
   ]
  },
  {
   "cell_type": "code",
   "execution_count": null,
   "metadata": {},
   "outputs": [],
   "source": [
    "for ticker in available_ticks:\n",
    "    for year in years:\n",
    "        for quarter in quarters:\n",
    "            url = \"https://financialmodelingprep.com/api/v3/earning_call_transcript/\" +ticker+ \"?quarter=\" + quarter+ \"&year=\" + year + \"&apikey=8c48192b57789b1b85a59db736780f87\"\n",
    "            transcript = get_jsonparsed_data(url)\n",
    "            transcripts.append(transcript)"
   ]
  },
  {
   "cell_type": "code",
   "execution_count": null,
   "metadata": {},
   "outputs": [],
   "source": [
    "with open('transcripts.pkl', 'wb') as f:\n",
    "    pickle.dump(transcripts, f)"
   ]
  },
  {
   "cell_type": "markdown",
   "metadata": {},
   "source": [
    "### Import to DataFrame"
   ]
  },
  {
   "cell_type": "code",
   "execution_count": 7,
   "metadata": {},
   "outputs": [],
   "source": [
    "infile = open('transcripts_1.pkl','rb')\n",
    "transcripts_1 = pickle.load(infile)\n",
    "infile.close()"
   ]
  },
  {
   "cell_type": "code",
   "execution_count": 8,
   "metadata": {},
   "outputs": [],
   "source": [
    "infile = open('transcripts_2.pkl','rb')\n",
    "transcripts_2 = pickle.load(infile)\n",
    "infile.close()"
   ]
  },
  {
   "cell_type": "code",
   "execution_count": 39,
   "metadata": {},
   "outputs": [],
   "source": [
    "transcripts = transcripts_1 + transcripts_2"
   ]
  },
  {
   "cell_type": "code",
   "execution_count": 32,
   "metadata": {},
   "outputs": [
    {
     "data": {
      "text/plain": [
       "93701"
      ]
     },
     "execution_count": 32,
     "metadata": {},
     "output_type": "execute_result"
    }
   ],
   "source": [
    "len(transcripts)"
   ]
  },
  {
   "cell_type": "code",
   "execution_count": 40,
   "metadata": {},
   "outputs": [],
   "source": [
    "for transcript_list in transcripts:\n",
    "    for transcript_dict in transcript_list:\n",
    "        transcript_dict[\"content\"] = transcript_dict[\"content\"].replace('\\n', \"\")\n",
    "        transcript_dict[\"content\"] = transcript_dict[\"content\"].replace(\"\\\\\", \"\")"
   ]
  },
  {
   "cell_type": "code",
   "execution_count": 45,
   "metadata": {},
   "outputs": [],
   "source": [
    "from itertools import chain\n",
    "df = pd.DataFrame(list(chain.from_iterable(transcripts)))"
   ]
  },
  {
   "cell_type": "code",
   "execution_count": 46,
   "metadata": {},
   "outputs": [
    {
     "data": {
      "text/html": [
       "<div>\n",
       "<style scoped>\n",
       "    .dataframe tbody tr th:only-of-type {\n",
       "        vertical-align: middle;\n",
       "    }\n",
       "\n",
       "    .dataframe tbody tr th {\n",
       "        vertical-align: top;\n",
       "    }\n",
       "\n",
       "    .dataframe thead th {\n",
       "        text-align: right;\n",
       "    }\n",
       "</style>\n",
       "<table border=\"1\" class=\"dataframe\">\n",
       "  <thead>\n",
       "    <tr style=\"text-align: right;\">\n",
       "      <th></th>\n",
       "      <th>symbol</th>\n",
       "      <th>quarter</th>\n",
       "      <th>year</th>\n",
       "      <th>date</th>\n",
       "      <th>content</th>\n",
       "    </tr>\n",
       "  </thead>\n",
       "  <tbody>\n",
       "    <tr>\n",
       "      <th>0</th>\n",
       "      <td>A</td>\n",
       "      <td>1</td>\n",
       "      <td>2018</td>\n",
       "      <td>2018-02-15 17:00:00</td>\n",
       "      <td>Operator: Good day, ladies and gentlemen, and ...</td>\n",
       "    </tr>\n",
       "    <tr>\n",
       "      <th>1</th>\n",
       "      <td>A</td>\n",
       "      <td>2</td>\n",
       "      <td>2018</td>\n",
       "      <td>2018-05-15 17:00:00</td>\n",
       "      <td>Operator: Good day, ladies and gentlemen, and ...</td>\n",
       "    </tr>\n",
       "    <tr>\n",
       "      <th>2</th>\n",
       "      <td>A</td>\n",
       "      <td>3</td>\n",
       "      <td>2018</td>\n",
       "      <td>2018-08-15 17:00:00</td>\n",
       "      <td>Operator: Good day, ladies and gentlemen, and ...</td>\n",
       "    </tr>\n",
       "    <tr>\n",
       "      <th>3</th>\n",
       "      <td>A</td>\n",
       "      <td>4</td>\n",
       "      <td>2018</td>\n",
       "      <td>2018-11-20 17:00:00</td>\n",
       "      <td>Operator: Good day, ladies and gentlemen, and ...</td>\n",
       "    </tr>\n",
       "    <tr>\n",
       "      <th>4</th>\n",
       "      <td>A</td>\n",
       "      <td>1</td>\n",
       "      <td>2019</td>\n",
       "      <td>2019-02-21 17:00:00</td>\n",
       "      <td>Operator: Good day, ladies and gentlemen, and ...</td>\n",
       "    </tr>\n",
       "    <tr>\n",
       "      <th>...</th>\n",
       "      <td>...</td>\n",
       "      <td>...</td>\n",
       "      <td>...</td>\n",
       "      <td>...</td>\n",
       "      <td>...</td>\n",
       "    </tr>\n",
       "    <tr>\n",
       "      <th>36367</th>\n",
       "      <td>ZYXI</td>\n",
       "      <td>3</td>\n",
       "      <td>2019</td>\n",
       "      <td>2019-10-30 17:00:00</td>\n",
       "      <td>Operator: Good day and welcome to the Zynex's ...</td>\n",
       "    </tr>\n",
       "    <tr>\n",
       "      <th>36368</th>\n",
       "      <td>ZYXI</td>\n",
       "      <td>4</td>\n",
       "      <td>2019</td>\n",
       "      <td>2020-02-28 17:00:00</td>\n",
       "      <td>Operator: Good afternoon, and welcome to the Z...</td>\n",
       "    </tr>\n",
       "    <tr>\n",
       "      <th>36369</th>\n",
       "      <td>ZYXI</td>\n",
       "      <td>1</td>\n",
       "      <td>2020</td>\n",
       "      <td>2020-04-29 17:00:00</td>\n",
       "      <td>Operator: Good day and welcome to the Zynex Fi...</td>\n",
       "    </tr>\n",
       "    <tr>\n",
       "      <th>36370</th>\n",
       "      <td>ZYXI</td>\n",
       "      <td>2</td>\n",
       "      <td>2020</td>\n",
       "      <td>2020-07-28 17:00:00</td>\n",
       "      <td>Operator: Good day, and welcome to the Zynex S...</td>\n",
       "    </tr>\n",
       "    <tr>\n",
       "      <th>36371</th>\n",
       "      <td>ZYXI</td>\n",
       "      <td>4</td>\n",
       "      <td>2020</td>\n",
       "      <td>2021-02-25 22:44:06</td>\n",
       "      <td>Operator: Good afternoon and welcome to the Z...</td>\n",
       "    </tr>\n",
       "  </tbody>\n",
       "</table>\n",
       "<p>36372 rows × 5 columns</p>\n",
       "</div>"
      ],
      "text/plain": [
       "      symbol  quarter  year                 date  \\\n",
       "0          A        1  2018  2018-02-15 17:00:00   \n",
       "1          A        2  2018  2018-05-15 17:00:00   \n",
       "2          A        3  2018  2018-08-15 17:00:00   \n",
       "3          A        4  2018  2018-11-20 17:00:00   \n",
       "4          A        1  2019  2019-02-21 17:00:00   \n",
       "...      ...      ...   ...                  ...   \n",
       "36367   ZYXI        3  2019  2019-10-30 17:00:00   \n",
       "36368   ZYXI        4  2019  2020-02-28 17:00:00   \n",
       "36369   ZYXI        1  2020  2020-04-29 17:00:00   \n",
       "36370   ZYXI        2  2020  2020-07-28 17:00:00   \n",
       "36371   ZYXI        4  2020  2021-02-25 22:44:06   \n",
       "\n",
       "                                                 content  \n",
       "0      Operator: Good day, ladies and gentlemen, and ...  \n",
       "1      Operator: Good day, ladies and gentlemen, and ...  \n",
       "2      Operator: Good day, ladies and gentlemen, and ...  \n",
       "3      Operator: Good day, ladies and gentlemen, and ...  \n",
       "4      Operator: Good day, ladies and gentlemen, and ...  \n",
       "...                                                  ...  \n",
       "36367  Operator: Good day and welcome to the Zynex's ...  \n",
       "36368  Operator: Good afternoon, and welcome to the Z...  \n",
       "36369  Operator: Good day and welcome to the Zynex Fi...  \n",
       "36370  Operator: Good day, and welcome to the Zynex S...  \n",
       "36371   Operator: Good afternoon and welcome to the Z...  \n",
       "\n",
       "[36372 rows x 5 columns]"
      ]
     },
     "execution_count": 46,
     "metadata": {},
     "output_type": "execute_result"
    }
   ],
   "source": [
    "df"
   ]
  },
  {
   "cell_type": "code",
   "execution_count": 48,
   "metadata": {},
   "outputs": [],
   "source": [
    "tickers = list(df.symbol.unique())"
   ]
  },
  {
   "cell_type": "code",
   "execution_count": 50,
   "metadata": {
    "scrolled": false
   },
   "outputs": [
    {
     "data": {
      "text/plain": [
       "3773"
      ]
     },
     "execution_count": 50,
     "metadata": {},
     "output_type": "execute_result"
    }
   ],
   "source": [
    "len(tickers)"
   ]
  },
  {
   "cell_type": "markdown",
   "metadata": {},
   "source": [
    "### NLP Model"
   ]
  },
  {
   "cell_type": "code",
   "execution_count": null,
   "metadata": {},
   "outputs": [],
   "source": []
  },
  {
   "cell_type": "code",
   "execution_count": null,
   "metadata": {},
   "outputs": [],
   "source": []
  }
 ],
 "metadata": {
  "kernelspec": {
   "display_name": "Python 3",
   "language": "python",
   "name": "python3"
  },
  "language_info": {
   "codemirror_mode": {
    "name": "ipython",
    "version": 3
   },
   "file_extension": ".py",
   "mimetype": "text/x-python",
   "name": "python",
   "nbconvert_exporter": "python",
   "pygments_lexer": "ipython3",
   "version": "3.8.6"
  }
 },
 "nbformat": 4,
 "nbformat_minor": 4
}
